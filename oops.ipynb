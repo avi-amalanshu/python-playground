{
 "cells": [
  {
   "metadata": {},
   "cell_type": "markdown",
   "source": [
    "[WIP]. This is going to be a Medium article someday. I don't have a lot of time to blog right now. But for what little time I _do_ have, it's something I enjoy and I feel it's a better time-pass mechanism than most others.\n",
    "# Object Oriented Programming in Python\n",
    "Note: I'm assuming here you have a basic understanding of\n",
    "1. Python\n",
    "2. Object Oriented Programming\n",
    "\n",
    "Nothing advanced-- say, a high-school level intro class should be enough. Also some parts of this article are only valid for Python 3. (This notebook was written in 3.11.9).\n",
    "## Everything is an object in Python\n",
    "There's a fair chance you've heard this if you've tried to learn Python. Especially so if you're coming from another language. And it's true. Most \"things\", be they integers, functions, etc. in Python are objects of some class or the other. \n",
    "\n",
    "This is as opposed to something like C, where e.g. functions are just sections of code with known addresses. Because Python functions are objects, you can do stuff like assign them to variables, store them in lists and dictionaries, pass them as arguments to other functions, return them from functions etc. The closest functionality you can get to this in C is through function pointers-- pointers to the memory address of the first instruction of a function.\n",
    "But not through functions themselves.\n",
    "\n",
    "To better understand the flexibility afforded by this OOP-driven approach, we're going to start with `int` and slowly add features until it resembles a `Generator` (don't worry if you don't know what that is).\n",
    "\n",
    "Suppose I write this function definition:"
   ],
   "id": "83931bc68ef05f70"
  },
  {
   "cell_type": "code",
   "id": "initial_id",
   "metadata": {
    "collapsed": true,
    "ExecuteTime": {
     "end_time": "2024-06-21T03:22:08.610109Z",
     "start_time": "2024-06-21T03:22:08.606201Z"
    }
   },
   "source": [
    "def is_odd(number):\n",
    "    number %= 2\n",
    "    return number"
   ],
   "outputs": [],
   "execution_count": 1
  },
  {
   "metadata": {},
   "cell_type": "markdown",
   "source": [
    "What here exactly is the object? And what is its class?\n",
    "\n",
    "Well, the object _is_ `is_odd` itself. And it belongs to the `function` class. As a member of the `function` class, `is_odd` has a couple methods associated with it. One of them is `__class__`. "
   ],
   "id": "53c0a11cebccde9b"
  },
  {
   "metadata": {
    "ExecuteTime": {
     "end_time": "2024-06-21T03:22:08.612951Z",
     "start_time": "2024-06-21T03:22:08.610891Z"
    }
   },
   "cell_type": "code",
   "source": "print(is_odd.__class__)",
   "id": "f9e55a559b3506f3",
   "outputs": [
    {
     "name": "stdout",
     "output_type": "stream",
     "text": [
      "<class 'function'>\n"
     ]
    }
   ],
   "execution_count": 2
  },
  {
   "metadata": {},
   "cell_type": "markdown",
   "source": "Confused? Just to be sure, here we are dealing with the expression `is_odd` (which is the _name of our object_) and NOT `is_odd()` (for now, let's just say this the _return value_ of our function). So, `is_odd` is the name of an object of class `function` just as `foo` is the name of an object of class `Bar` below:",
   "id": "4d07dc75cc8f7e5e"
  },
  {
   "metadata": {
    "ExecuteTime": {
     "end_time": "2024-06-21T03:22:08.614964Z",
     "start_time": "2024-06-21T03:22:08.613500Z"
    }
   },
   "cell_type": "code",
   "source": [
    "class Bar:\n",
    "    def __init__(self):\n",
    "        ...\n",
    "\n",
    "foo = Bar()\n",
    "print(foo.__class__)"
   ],
   "id": "f01f14e02efa2115",
   "outputs": [
    {
     "name": "stdout",
     "output_type": "stream",
     "text": [
      "<class '__main__.Bar'>\n"
     ]
    }
   ],
   "execution_count": 3
  },
  {
   "metadata": {},
   "cell_type": "markdown",
   "source": [
    "Eagle eyed observers might have caught onto something here. If you thought \"hey, what on earth is `__main__` doing here?\"-- DON'T pat yourself on the back because that's not the interesting question. (It's there because this class is implicitly defined in the `__main__` module i.e. is a part of the driver code).\n",
    "\n",
    "The interesting question is \"how on earth is the attribute `__class__` valid for `foo` which is a `Bar`? We never defined `Bar` to have a `__class__`!\n",
    "\n",
    "As it turns out, every class in Python _has_ to inherit from another class. And if you don't explicitly inherit, you're implicitly inheriting another class which happens to have `__class__`. Like, I can define a child of Bar called Bar2:"
   ],
   "id": "a1908cde3819437b"
  },
  {
   "metadata": {
    "ExecuteTime": {
     "end_time": "2024-06-21T03:22:08.617123Z",
     "start_time": "2024-06-21T03:22:08.615643Z"
    }
   },
   "cell_type": "code",
   "source": [
    "class Bar2(Bar):\n",
    "    def __init__(self):\n",
    "        super().__init__()  # you're supposed to at least construct everything you need for the parent class\n",
    "        ..."
   ],
   "id": "97c308c71f9c4005",
   "outputs": [],
   "execution_count": 4
  },
  {
   "metadata": {},
   "cell_type": "markdown",
   "source": [
    "So Bar2's parent is Bar. But I never defined a parent for Bar. What is it?\n",
    "\n",
    "Because I know the answer, I know Bar's parent has a handy function called `__mro__` (which stands for Method Resolution Order-- this is going to tell us the chain of ancestors of Bar2):"
   ],
   "id": "27549ab422241c35"
  },
  {
   "metadata": {
    "ExecuteTime": {
     "end_time": "2024-06-21T03:22:08.619737Z",
     "start_time": "2024-06-21T03:22:08.618265Z"
    }
   },
   "cell_type": "code",
   "source": "print(Bar2.__mro__)",
   "id": "ac976dd5391705d3",
   "outputs": [
    {
     "name": "stdout",
     "output_type": "stream",
     "text": [
      "(<class '__main__.Bar2'>, <class '__main__.Bar'>, <class 'object'>)\n"
     ]
    }
   ],
   "execution_count": 5
  },
  {
   "metadata": {},
   "cell_type": "markdown",
   "source": "By the way, notice that `__mro__` is something we've called on the class name `Bar2` itself, unlike our earlier example of `__class__` which we'd called on the object name. What happens if you call the `__mro__` of an _object_ of some class?",
   "id": "a7f8ce15e8d2e4de"
  },
  {
   "metadata": {
    "ExecuteTime": {
     "end_time": "2024-06-21T03:22:08.813716Z",
     "start_time": "2024-06-21T03:22:08.620338Z"
    }
   },
   "cell_type": "code",
   "source": "print(foo.__mro__)",
   "id": "909ba6d1332edf12",
   "outputs": [
    {
     "ename": "AttributeError",
     "evalue": "'Bar' object has no attribute '__mro__'",
     "output_type": "error",
     "traceback": [
      "\u001B[0;31m---------------------------------------------------------------------------\u001B[0m",
      "\u001B[0;31mAttributeError\u001B[0m                            Traceback (most recent call last)",
      "Cell \u001B[0;32mIn[6], line 1\u001B[0m\n\u001B[0;32m----> 1\u001B[0m \u001B[38;5;28mprint\u001B[39m(foo\u001B[38;5;241m.\u001B[39m\u001B[38;5;18m__mro__\u001B[39m)\n",
      "\u001B[0;31mAttributeError\u001B[0m: 'Bar' object has no attribute '__mro__'"
     ]
    }
   ],
   "execution_count": 6
  },
  {
   "metadata": {},
   "cell_type": "markdown",
   "source": "Huh? What's going on here? So `__mro__` is _not_ inherited from `object`. Is a class also an object of some _other_ class that isn't `object`?! (Yes, it is).",
   "id": "b522de2c3ac1c8a5"
  },
  {
   "metadata": {
    "ExecuteTime": {
     "end_time": "2024-06-21T03:22:11.132750Z",
     "start_time": "2024-06-21T03:22:11.129784Z"
    }
   },
   "cell_type": "code",
   "source": "print(Bar2.__class__)",
   "id": "9aca07c6b792514c",
   "outputs": [
    {
     "name": "stdout",
     "output_type": "stream",
     "text": [
      "<class 'type'>\n"
     ]
    }
   ],
   "execution_count": 7
  },
  {
   "metadata": {},
   "cell_type": "markdown",
   "source": [
    "Yeah, so I wasn't kidding when I said _everything_ in Python is an object-- even classes are objects themselves. (Even if `type` didn't exist, the fact that `Bar2` _has_ something (`__mro__`) indicates that `Bar2` is the name of an object). By the way, `type` is what's known as a **metaclass** in Python.\n",
    "\n",
    "Anyway, back to business. Yes, every class inherits from `object`. And every class _is_ an object of class `type`. Since every object inherits attributes and methods from `object`, there is a fair amount of uniformity in functionality between classes in Python."
   ],
   "id": "7c5f2d4a3504d14d"
  },
  {
   "metadata": {
    "ExecuteTime": {
     "end_time": "2024-06-21T03:22:12.421278Z",
     "start_time": "2024-06-21T03:22:12.415761Z"
    }
   },
   "cell_type": "code",
   "source": "vars(object)",
   "id": "e01c238f11102d66",
   "outputs": [
    {
     "data": {
      "text/plain": [
       "mappingproxy({'__new__': <function object.__new__(*args, **kwargs)>,\n",
       "              '__repr__': <slot wrapper '__repr__' of 'object' objects>,\n",
       "              '__hash__': <slot wrapper '__hash__' of 'object' objects>,\n",
       "              '__str__': <slot wrapper '__str__' of 'object' objects>,\n",
       "              '__getattribute__': <slot wrapper '__getattribute__' of 'object' objects>,\n",
       "              '__setattr__': <slot wrapper '__setattr__' of 'object' objects>,\n",
       "              '__delattr__': <slot wrapper '__delattr__' of 'object' objects>,\n",
       "              '__lt__': <slot wrapper '__lt__' of 'object' objects>,\n",
       "              '__le__': <slot wrapper '__le__' of 'object' objects>,\n",
       "              '__eq__': <slot wrapper '__eq__' of 'object' objects>,\n",
       "              '__ne__': <slot wrapper '__ne__' of 'object' objects>,\n",
       "              '__gt__': <slot wrapper '__gt__' of 'object' objects>,\n",
       "              '__ge__': <slot wrapper '__ge__' of 'object' objects>,\n",
       "              '__init__': <slot wrapper '__init__' of 'object' objects>,\n",
       "              '__reduce_ex__': <method '__reduce_ex__' of 'object' objects>,\n",
       "              '__reduce__': <method '__reduce__' of 'object' objects>,\n",
       "              '__getstate__': <method '__getstate__' of 'object' objects>,\n",
       "              '__subclasshook__': <method '__subclasshook__' of 'object' objects>,\n",
       "              '__init_subclass__': <method '__init_subclass__' of 'object' objects>,\n",
       "              '__format__': <method '__format__' of 'object' objects>,\n",
       "              '__sizeof__': <method '__sizeof__' of 'object' objects>,\n",
       "              '__dir__': <method '__dir__' of 'object' objects>,\n",
       "              '__class__': <attribute '__class__' of 'object' objects>,\n",
       "              '__doc__': 'The base class of the class hierarchy.\\n\\nWhen called, it accepts no arguments and returns a new featureless\\ninstance that has no instance attributes and cannot be given any.\\n'})"
      ]
     },
     "execution_count": 8,
     "metadata": {},
     "output_type": "execute_result"
    }
   ],
   "execution_count": 8
  },
  {
   "metadata": {},
   "cell_type": "code",
   "source": "",
   "id": "6978ed88c3739e04",
   "outputs": [],
   "execution_count": null
  }
 ],
 "metadata": {
  "kernelspec": {
   "display_name": "Python 3",
   "language": "python",
   "name": "python3"
  },
  "language_info": {
   "codemirror_mode": {
    "name": "ipython",
    "version": 2
   },
   "file_extension": ".py",
   "mimetype": "text/x-python",
   "name": "python",
   "nbconvert_exporter": "python",
   "pygments_lexer": "ipython2",
   "version": "2.7.6"
  }
 },
 "nbformat": 4,
 "nbformat_minor": 5
}
